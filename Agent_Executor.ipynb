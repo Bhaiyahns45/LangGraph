{
  "cells": [
    {
      "cell_type": "markdown",
      "metadata": {
        "id": "mbYOAxVclp6O"
      },
      "source": [
        "# 01. Learning LangGraph - Agent Executor"
      ]
    },
    {
      "cell_type": "code",
      "execution_count": 1,
      "metadata": {
        "colab": {
          "base_uri": "https://localhost:8080/"
        },
        "id": "AAoQEqlXGrWi",
        "outputId": "f0cffff7-c310-48a7-a50a-4f27cdb61d55"
      },
      "outputs": [],
      "source": [
        "# !pip install --quiet -U langchain langchain_openai langgraph langchainhub langchain_experimental"
      ]
    },
    {
      "cell_type": "markdown",
      "metadata": {
        "id": "0yS-Jzh_a_eI"
      },
      "source": [
        "modified from https://github.com/langchain-ai/langgraph/blob/main/examples/agent_executor/base.ipynb"
      ]
    },
    {
      "cell_type": "code",
      "execution_count": 1,
      "metadata": {},
      "outputs": [
        {
          "data": {
            "text/plain": [
              "True"
            ]
          },
          "execution_count": 1,
          "metadata": {},
          "output_type": "execute_result"
        }
      ],
      "source": [
        "# importing os module for environment variables\n",
        "import os\n",
        "# importing necessary functions from dotenv library\n",
        "from dotenv import load_dotenv, dotenv_values\n",
        "# loading variables from .env file\n",
        "load_dotenv()"
      ]
    },
    {
      "cell_type": "code",
      "execution_count": 2,
      "metadata": {},
      "outputs": [],
      "source": [
        "api_key = os.getenv('PRACTICE_KEY')\n",
        "langchain_api_key = os.getenv('LANGCHAIN_KEY')"
      ]
    },
    {
      "cell_type": "code",
      "execution_count": 3,
      "metadata": {
        "id": "guac0Zh7Gz4Q"
      },
      "outputs": [],
      "source": [
        "import os\n",
        "# from google.colab import userdata\n",
        "\n",
        "os.environ[\"OPENAI_API_KEY\"] = api_key\n",
        "\n",
        "os.environ[\"LANGCHAIN_TRACING_V2\"] = \"true\"\n",
        "os.environ[\"LANGCHAIN_API_KEY\"] = langchain_api_key\n",
        "os.environ[\"LANGCHAIN_PROJECT\"] = \"LangGraph_01\""
      ]
    },
    {
      "cell_type": "markdown",
      "metadata": {
        "id": "2zHfhDLnHUhU"
      },
      "source": [
        "## Making the GraphState"
      ]
    },
    {
      "cell_type": "code",
      "execution_count": 4,
      "metadata": {
        "id": "0Bz48n-NHOXa"
      },
      "outputs": [],
      "source": [
        "from typing import TypedDict, Annotated, List, Union\n",
        "from langchain_core.agents import AgentAction, AgentFinish\n",
        "from langchain_core.messages import BaseMessage\n",
        "import operator\n",
        "\n",
        "\n",
        "class AgentState(TypedDict):\n",
        "   # The input string\n",
        "   input: str\n",
        "   # The list of previous messages in the conversation\n",
        "   chat_history: list[BaseMessage]\n",
        "   # The outcome of a given call to the agent\n",
        "   # Needs `None` as a valid type, since this is what this will start as\n",
        "   agent_outcome: Union[AgentAction, AgentFinish, None]\n",
        "   # List of actions and corresponding observations\n",
        "   # Here we annotate this with `operator.add` to indicate that operations to\n",
        "   # this state should be ADDED to the existing values (not overwrite it)\n",
        "   intermediate_steps: Annotated[list[tuple[AgentAction, str]], operator.add]"
      ]
    },
    {
      "cell_type": "markdown",
      "metadata": {
        "id": "mjkCAE7ZJjdc"
      },
      "source": [
        "## Custom Tools\n",
        "\n",
        "**Tools**  \n",
        "\n",
        "Tools are interfaces that an agent can use to interact with the world. They combine a few things:\n",
        "\n",
        "\n",
        "\n",
        "1.   The name of the tool\n",
        "2.   A description of what the tool is\n",
        "3.   JSON schema of what the inputs to the tool are\n",
        "4.   The function to call\n",
        "\n",
        "\n",
        "Whether the result of a tool should be returned directly to the user"
      ]
    },
    {
      "cell_type": "code",
      "execution_count": 6,
      "metadata": {
        "id": "ZBjb2RGpK8jY"
      },
      "outputs": [],
      "source": [
        "from langchain.tools import BaseTool, StructuredTool, Tool, tool"
      ]
    },
    {
      "cell_type": "code",
      "execution_count": 7,
      "metadata": {
        "id": "OLeIVeaEJltj"
      },
      "outputs": [],
      "source": [
        "import random\n",
        "\n",
        "@tool(\"lower_case\", return_direct=True)\n",
        "def to_lower_case(input:str) -> str:\n",
        "  \"\"\"Returns the input as all lower case.\"\"\"\n",
        "  return input.lower()\n",
        "\n",
        "@tool(\"random_number\", return_direct=True)\n",
        "def random_number_maker(input:str) -> str:\n",
        "    \"\"\"Returns a random number between 0-100.\"\"\"\n",
        "    return random.randint(0, 100)\n",
        "\n",
        "tools = [to_lower_case,random_number_maker]"
      ]
    },
    {
      "cell_type": "code",
      "execution_count": 8,
      "metadata": {
        "colab": {
          "base_uri": "https://localhost:8080/"
        },
        "id": "wnqHbU-3LSe_",
        "outputId": "ea9f2a6f-6ee0-4dcd-d033-1bb1048f0634"
      },
      "outputs": [
        {
          "data": {
            "text/plain": [
              "85"
            ]
          },
          "execution_count": 8,
          "metadata": {},
          "output_type": "execute_result"
        }
      ],
      "source": [
        "random_number_maker.run('random')"
      ]
    },
    {
      "cell_type": "code",
      "execution_count": 9,
      "metadata": {
        "colab": {
          "base_uri": "https://localhost:8080/",
          "height": 35
        },
        "id": "8X4Es0EJaYb7",
        "outputId": "f954ca4a-e43b-4609-c158-22d47f9ed159"
      },
      "outputs": [
        {
          "data": {
            "text/plain": [
              "'bhaiya singh'"
            ]
          },
          "execution_count": 9,
          "metadata": {},
          "output_type": "execute_result"
        }
      ],
      "source": [
        "to_lower_case.run('BHAIYA SINGH')"
      ]
    },
    {
      "cell_type": "markdown",
      "metadata": {
        "id": "hSl1IkYEqTKx"
      },
      "source": [
        "## Agent - with new create_open_ai"
      ]
    },
    {
      "cell_type": "code",
      "execution_count": 10,
      "metadata": {
        "id": "ZRfmuHYoqR-H"
      },
      "outputs": [],
      "source": [
        "from langchain import hub\n",
        "from langchain.agents import create_openai_functions_agent\n",
        "from langchain_openai.chat_models import ChatOpenAI\n",
        "\n",
        "# Get the prompt to use - you can modify this!\n",
        "prompt = hub.pull(\"hwchase17/openai-functions-agent\")\n",
        "\n",
        "# Choose the LLM that will drive the agent\n",
        "llm = ChatOpenAI(model=\"gpt-3.5-turbo-1106\", streaming=True)\n",
        "\n",
        "# Construct the OpenAI Functions agent\n",
        "agent_runnable = create_openai_functions_agent(llm,\n",
        "                                               tools,\n",
        "                                               prompt)"
      ]
    },
    {
      "cell_type": "code",
      "execution_count": 11,
      "metadata": {
        "colab": {
          "base_uri": "https://localhost:8080/"
        },
        "id": "YitzfHjZq4bv",
        "outputId": "83df8a9d-ffdd-4dea-fb9c-1defc36ca76d"
      },
      "outputs": [
        {
          "data": {
            "text/plain": [
              "ChatPromptTemplate(input_variables=['agent_scratchpad', 'input'], input_types={'chat_history': typing.List[typing.Union[langchain_core.messages.ai.AIMessage, langchain_core.messages.human.HumanMessage, langchain_core.messages.chat.ChatMessage, langchain_core.messages.system.SystemMessage, langchain_core.messages.function.FunctionMessage, langchain_core.messages.tool.ToolMessage]], 'agent_scratchpad': typing.List[typing.Union[langchain_core.messages.ai.AIMessage, langchain_core.messages.human.HumanMessage, langchain_core.messages.chat.ChatMessage, langchain_core.messages.system.SystemMessage, langchain_core.messages.function.FunctionMessage, langchain_core.messages.tool.ToolMessage]]}, metadata={'lc_hub_owner': 'hwchase17', 'lc_hub_repo': 'openai-functions-agent', 'lc_hub_commit_hash': 'a1655024b06afbd95d17449f21316291e0726f13dcfaf990cc0d18087ad689a5'}, messages=[SystemMessagePromptTemplate(prompt=PromptTemplate(input_variables=[], template='You are a helpful assistant')), MessagesPlaceholder(variable_name='chat_history', optional=True), HumanMessagePromptTemplate(prompt=PromptTemplate(input_variables=['input'], template='{input}')), MessagesPlaceholder(variable_name='agent_scratchpad')])"
            ]
          },
          "execution_count": 11,
          "metadata": {},
          "output_type": "execute_result"
        }
      ],
      "source": [
        "prompt"
      ]
    },
    {
      "cell_type": "code",
      "execution_count": 12,
      "metadata": {
        "colab": {
          "base_uri": "https://localhost:8080/"
        },
        "id": "enowMbGUwEXb",
        "outputId": "d71298f0-6249-43d5-d765-a983f55c83c5"
      },
      "outputs": [
        {
          "data": {
            "text/plain": [
              "[ChatPromptTemplate(input_variables=['agent_scratchpad', 'input'], input_types={'chat_history': typing.List[typing.Union[langchain_core.messages.ai.AIMessage, langchain_core.messages.human.HumanMessage, langchain_core.messages.chat.ChatMessage, langchain_core.messages.system.SystemMessage, langchain_core.messages.function.FunctionMessage, langchain_core.messages.tool.ToolMessage]], 'agent_scratchpad': typing.List[typing.Union[langchain_core.messages.ai.AIMessage, langchain_core.messages.human.HumanMessage, langchain_core.messages.chat.ChatMessage, langchain_core.messages.system.SystemMessage, langchain_core.messages.function.FunctionMessage, langchain_core.messages.tool.ToolMessage]]}, metadata={'lc_hub_owner': 'hwchase17', 'lc_hub_repo': 'openai-functions-agent', 'lc_hub_commit_hash': 'a1655024b06afbd95d17449f21316291e0726f13dcfaf990cc0d18087ad689a5'}, messages=[SystemMessagePromptTemplate(prompt=PromptTemplate(input_variables=[], template='You are a helpful assistant')), MessagesPlaceholder(variable_name='chat_history', optional=True), HumanMessagePromptTemplate(prompt=PromptTemplate(input_variables=['input'], template='{input}')), MessagesPlaceholder(variable_name='agent_scratchpad')])]"
            ]
          },
          "execution_count": 12,
          "metadata": {},
          "output_type": "execute_result"
        }
      ],
      "source": [
        "prompt.get_prompts()"
      ]
    },
    {
      "cell_type": "code",
      "execution_count": 13,
      "metadata": {
        "id": "GJ7_ezEUvpjv"
      },
      "outputs": [],
      "source": [
        "inputs = {\"input\": \"give me a random number and then write in words and make it lower case.\",\n",
        "          \"chat_history\": [],\n",
        "          \"intermediate_steps\":[]}\n",
        "\n",
        "agent_outcome = agent_runnable.invoke(inputs)"
      ]
    },
    {
      "cell_type": "code",
      "execution_count": 14,
      "metadata": {
        "colab": {
          "base_uri": "https://localhost:8080/"
        },
        "id": "xVco6-WmB1ll",
        "outputId": "dfdef23b-69c7-4b66-ce26-7bab916e2970"
      },
      "outputs": [
        {
          "data": {
            "text/plain": [
              "AgentActionMessageLog(tool='random_number', tool_input={'input': 'random'}, log=\"\\nInvoking: `random_number` with `{'input': 'random'}`\\n\\n\\n\", message_log=[AIMessage(content='', additional_kwargs={'function_call': {'arguments': '{\"input\":\"random\"}', 'name': 'random_number'}}, response_metadata={'finish_reason': 'function_call'}, id='run-9cbd0114-2e95-424f-9e5d-e9d4cf4b753d-0')])"
            ]
          },
          "execution_count": 14,
          "metadata": {},
          "output_type": "execute_result"
        }
      ],
      "source": [
        "agent_outcome"
      ]
    },
    {
      "cell_type": "code",
      "execution_count": 15,
      "metadata": {
        "colab": {
          "base_uri": "https://localhost:8080/"
        },
        "id": "ux7k8XD0B90p",
        "outputId": "081af95c-70de-48d6-f7be-4ea4481d00c9"
      },
      "outputs": [
        {
          "data": {
            "text/plain": [
              "langchain_core.runnables.base.RunnableSequence"
            ]
          },
          "execution_count": 15,
          "metadata": {},
          "output_type": "execute_result"
        }
      ],
      "source": [
        "type(agent_runnable)"
      ]
    },
    {
      "cell_type": "markdown",
      "metadata": {
        "id": "XEgS5eK_HdvK"
      },
      "source": [
        "## Nodes"
      ]
    },
    {
      "cell_type": "code",
      "execution_count": 16,
      "metadata": {
        "id": "9gmzMROGHqeN"
      },
      "outputs": [],
      "source": [
        "from langchain_core.agents import AgentFinish\n",
        "from langgraph.prebuilt.tool_executor import ToolExecutor\n",
        "\n",
        "tool_executor = ToolExecutor(tools)"
      ]
    },
    {
      "cell_type": "code",
      "execution_count": 17,
      "metadata": {
        "id": "JyRrGocuHZ2b"
      },
      "outputs": [],
      "source": [
        "# Define the agent/graph\n",
        "def run_agent(data):\n",
        "    agent_outcome = agent_runnable.invoke(data)\n",
        "    return {\"agent_outcome\": agent_outcome}\n",
        "\n",
        "# Define the function to execute tools\n",
        "def execute_tools(data):\n",
        "    # Get the most recent agent_outcome - this is the key added in the `agent` above\n",
        "    agent_action = data['agent_outcome']\n",
        "    # Execute the tool\n",
        "    output = tool_executor.invoke(agent_action)\n",
        "    print(f\"The agent action is {agent_action}\")\n",
        "    print(f\"The tool result is: {output}\")\n",
        "    # Return the output\n",
        "    return {\"intermediate_steps\": [(agent_action, str(output))]}\n",
        "\n",
        "# Define logic that will be used to determine which conditional edge to go down\n",
        "def should_continue(data):\n",
        "    # If the agent outcome is an AgentFinish, then we return `exit` string\n",
        "    # This will be used when setting up the graph to define the flow\n",
        "    if isinstance(data['agent_outcome'], AgentFinish):\n",
        "        return \"end\"\n",
        "    # Otherwise, an AgentAction is returned\n",
        "    # Here we return `continue` string\n",
        "    # This will be used when setting up the graph to define the flow\n",
        "    else:\n",
        "        return \"continue\""
      ]
    },
    {
      "cell_type": "markdown",
      "metadata": {
        "id": "SatNeMOsIWLx"
      },
      "source": [
        "## Define the graph"
      ]
    },
    {
      "cell_type": "code",
      "execution_count": 18,
      "metadata": {
        "id": "tAG5MVUxIXr_"
      },
      "outputs": [],
      "source": [
        "from langgraph.graph import END, StateGraph\n",
        "\n",
        "# Define a new graph\n",
        "workflow = StateGraph(AgentState)\n",
        "\n",
        "# Define the two nodes we will cycle between\n",
        "workflow.add_node(\"agent\", run_agent)\n",
        "workflow.add_node(\"action\", execute_tools)\n",
        "\n",
        "# Set the entrypoint as `agent`\n",
        "# This means that this node is the first one called\n",
        "workflow.set_entry_point(\"agent\")\n",
        "\n",
        "# We now add a conditional edge\n",
        "workflow.add_conditional_edges(\n",
        "    # First, we define the start node. We use `agent`.\n",
        "    # This means these are the edges taken after the `agent` node is called.\n",
        "    \"agent\",\n",
        "    # Next, we pass in the function that will determine which node is called next.\n",
        "    should_continue,\n",
        "    # Finally we pass in a mapping.\n",
        "    # The keys are strings, and the values are other nodes.\n",
        "    # END is a special node marking that the graph should finish.\n",
        "    # What will happen is we will call `should_continue`, and then the output of that\n",
        "    # will be matched against the keys in this mapping.\n",
        "    # Based on which one it matches, that node will then be called.\n",
        "    {\n",
        "        # If `tools`, then we call the tool node.\n",
        "        \"continue\": \"action\",\n",
        "        # Otherwise we finish.\n",
        "        \"end\": END\n",
        "    }\n",
        ")\n",
        "\n",
        "# We now add a normal edge from `tools` to `agent`.\n",
        "# This means that after `tools` is called, `agent` node is called next.\n",
        "workflow.add_edge('action', 'agent')\n",
        "\n",
        "# Finally, we compile it!\n",
        "# This compiles it into a LangChain Runnable,\n",
        "# meaning you can use it as you would any other runnable\n",
        "app = workflow.compile()"
      ]
    },
    {
      "cell_type": "code",
      "execution_count": 19,
      "metadata": {},
      "outputs": [
        {
          "data": {
            "image/jpeg": "[encoded data removed]",
            "text/plain": [
              "<IPython.core.display.Image object>"
            ]
          },
          "metadata": {},
          "output_type": "display_data"
        }
      ],
      "source": [
        "from IPython.display import Image, display\n",
        "\n",
        "try:\n",
        "    display(Image(app.get_graph().draw_mermaid_png()))\n",
        "except Exception:\n",
        "    # This requires some extra dependencies and is optional\n",
        "    pass"
      ]
    },
    {
      "cell_type": "code",
      "execution_count": 20,
      "metadata": {
        "colab": {
          "base_uri": "https://localhost:8080/"
        },
        "id": "NP7CPbYyDS_q",
        "outputId": "a87ebdd5-f252-4440-8990-8e7b63164d0e"
      },
      "outputs": [
        {
          "data": {
            "text/plain": [
              "defaultdict(dict,\n",
              "            {'agent': {'should_continue': Branch(path=should_continue(recurse=True), ends={'continue': 'action', 'end': '__end__'}, then=None)}})"
            ]
          },
          "execution_count": 20,
          "metadata": {},
          "output_type": "execute_result"
        }
      ],
      "source": [
        "workflow.branches"
      ]
    },
    {
      "cell_type": "code",
      "execution_count": 21,
      "metadata": {
        "colab": {
          "base_uri": "https://localhost:8080/"
        },
        "id": "HmdeWSiVDcLC",
        "outputId": "f197500a-9687-4d76-a306-c40a1f5bea73"
      },
      "outputs": [
        {
          "data": {
            "text/plain": [
              "({'agent': agent(recurse=True), 'action': action(recurse=True)},\n",
              " {('__start__', 'agent'), ('action', 'agent')})"
            ]
          },
          "execution_count": 21,
          "metadata": {},
          "output_type": "execute_result"
        }
      ],
      "source": [
        "workflow.nodes, workflow.edges"
      ]
    },
    {
      "cell_type": "code",
      "execution_count": 22,
      "metadata": {
        "colab": {
          "base_uri": "https://localhost:8080/"
        },
        "id": "JVfXfUtID0r7",
        "outputId": "634c8e3e-8975-4478-ebf7-8957524eb6cc"
      },
      "outputs": [
        {
          "data": {
            "text/plain": [
              "{'input': <langgraph.channels.last_value.LastValue at 0x201be91ac20>,\n",
              " 'chat_history': <langgraph.channels.last_value.LastValue at 0x201bea6bb80>,\n",
              " 'agent_outcome': <langgraph.channels.last_value.LastValue at 0x201bea6bf40>,\n",
              " 'intermediate_steps': <langgraph.channels.binop.BinaryOperatorAggregate at 0x201beaac7c0>}"
            ]
          },
          "execution_count": 22,
          "metadata": {},
          "output_type": "execute_result"
        }
      ],
      "source": [
        "workflow.channels #['intermediate_steps']"
      ]
    },
    {
      "cell_type": "code",
      "execution_count": 23,
      "metadata": {
        "colab": {
          "base_uri": "https://localhost:8080/"
        },
        "id": "Qr_c40yBpr4f",
        "outputId": "c5838f2a-5381-4444-fe70-11aa06edfbd8"
      },
      "outputs": [
        {
          "name": "stdout",
          "output_type": "stream",
          "text": [
            "{'agent_outcome': AgentActionMessageLog(tool='random_number', tool_input={'input': 'random'}, log=\"\\nInvoking: `random_number` with `{'input': 'random'}`\\n\\n\\n\", message_log=[AIMessage(content='', additional_kwargs={'function_call': {'arguments': '{\"input\":\"random\"}', 'name': 'random_number'}}, response_metadata={'finish_reason': 'function_call'}, id='run-378a1711-7b19-4a61-a8ec-9546a108638c-0')])}\n",
            "----\n",
            "The agent action is tool='random_number' tool_input={'input': 'random'} log=\"\\nInvoking: `random_number` with `{'input': 'random'}`\\n\\n\\n\" message_log=[AIMessage(content='', additional_kwargs={'function_call': {'arguments': '{\"input\":\"random\"}', 'name': 'random_number'}}, response_metadata={'finish_reason': 'function_call'}, id='run-378a1711-7b19-4a61-a8ec-9546a108638c-0')]\n",
            "The tool result is: 90\n",
            "{'intermediate_steps': [(AgentActionMessageLog(tool='random_number', tool_input={'input': 'random'}, log=\"\\nInvoking: `random_number` with `{'input': 'random'}`\\n\\n\\n\", message_log=[AIMessage(content='', additional_kwargs={'function_call': {'arguments': '{\"input\":\"random\"}', 'name': 'random_number'}}, response_metadata={'finish_reason': 'function_call'}, id='run-378a1711-7b19-4a61-a8ec-9546a108638c-0')]), '90')]}\n",
            "----\n",
            "{'agent_outcome': AgentActionMessageLog(tool='lower_case', tool_input={'input': 'NINETY'}, log=\"\\nInvoking: `lower_case` with `{'input': 'NINETY'}`\\n\\n\\n\", message_log=[AIMessage(content='', additional_kwargs={'function_call': {'arguments': '{\"input\":\"NINETY\"}', 'name': 'lower_case'}}, response_metadata={'finish_reason': 'function_call'}, id='run-91a9aa1a-5a9c-4c87-a855-58f524f3aaef-0')])}\n",
            "----\n",
            "The agent action is tool='lower_case' tool_input={'input': 'NINETY'} log=\"\\nInvoking: `lower_case` with `{'input': 'NINETY'}`\\n\\n\\n\" message_log=[AIMessage(content='', additional_kwargs={'function_call': {'arguments': '{\"input\":\"NINETY\"}', 'name': 'lower_case'}}, response_metadata={'finish_reason': 'function_call'}, id='run-91a9aa1a-5a9c-4c87-a855-58f524f3aaef-0')]\n",
            "The tool result is: ninety\n",
            "{'intermediate_steps': [(AgentActionMessageLog(tool='lower_case', tool_input={'input': 'NINETY'}, log=\"\\nInvoking: `lower_case` with `{'input': 'NINETY'}`\\n\\n\\n\", message_log=[AIMessage(content='', additional_kwargs={'function_call': {'arguments': '{\"input\":\"NINETY\"}', 'name': 'lower_case'}}, response_metadata={'finish_reason': 'function_call'}, id='run-91a9aa1a-5a9c-4c87-a855-58f524f3aaef-0')]), 'ninety')]}\n",
            "----\n",
            "{'agent_outcome': AgentFinish(return_values={'output': 'The random number is 90, and in words, it is \"ninety\", all in lower case.'}, log='The random number is 90, and in words, it is \"ninety\", all in lower case.')}\n",
            "----\n"
          ]
        }
      ],
      "source": [
        "inputs = {\"input\": \"give me a random number and then write in words and make it lower case.\", \"chat_history\": []}\n",
        "for s in app.stream(inputs):\n",
        "    print(list(s.values())[0])\n",
        "    print(\"----\")"
      ]
    },
    {
      "cell_type": "code",
      "execution_count": null,
      "metadata": {
        "colab": {
          "base_uri": "https://localhost:8080/"
        },
        "id": "YGT9kXywqJGM",
        "outputId": "c6cd9ead-3a96-401e-e1b2-8c88008b218a"
      },
      "outputs": [
        {
          "name": "stdout",
          "output_type": "stream",
          "text": [
            "The agent action is tool='random_number' tool_input={'input': 'random number'} log=\"\\nInvoking: `random_number` with `{'input': 'random number'}`\\n\\n\\n\" message_log=[AIMessage(content='', additional_kwargs={'function_call': {'arguments': '{\"input\":\"random number\"}', 'name': 'random_number'}})]\n",
            "The tool result is: 60\n",
            "The agent action is tool='lower_case' tool_input={'input': 'SIXTY'} log=\"\\nInvoking: `lower_case` with `{'input': 'SIXTY'}`\\n\\n\\n\" message_log=[AIMessage(content='', additional_kwargs={'function_call': {'arguments': '{\"input\":\"SIXTY\"}', 'name': 'lower_case'}})]\n",
            "The tool result is: sixty\n"
          ]
        }
      ],
      "source": [
        "inputs = {\"input\": \"give me a random number and then write in words and make it lower case\", \"chat_history\": []}\n",
        "\n",
        "output = app.invoke(inputs)"
      ]
    },
    {
      "cell_type": "code",
      "execution_count": null,
      "metadata": {
        "colab": {
          "base_uri": "https://localhost:8080/",
          "height": 35
        },
        "id": "-YfntCeAuOPG",
        "outputId": "e9982d57-3036-4d0d-baf4-f4718d59a677"
      },
      "outputs": [
        {
          "data": {
            "application/vnd.google.colaboratory.intrinsic+json": {
              "type": "string"
            },
            "text/plain": [
              "'The random number is 60, and in words, it is \"sixty\", all in lower case.'"
            ]
          },
          "execution_count": 48,
          "metadata": {},
          "output_type": "execute_result"
        }
      ],
      "source": [
        "output.get(\"agent_outcome\").return_values['output']"
      ]
    },
    {
      "cell_type": "code",
      "execution_count": null,
      "metadata": {
        "colab": {
          "base_uri": "https://localhost:8080/"
        },
        "id": "ErubbyceuOPH",
        "outputId": "d3bb7472-efed-4092-8daa-473c5fceaaf6"
      },
      "outputs": [
        {
          "data": {
            "text/plain": [
              "[(AgentActionMessageLog(tool='random_number', tool_input={'input': 'random number'}, log=\"\\nInvoking: `random_number` with `{'input': 'random number'}`\\n\\n\\n\", message_log=[AIMessage(content='', additional_kwargs={'function_call': {'arguments': '{\"input\":\"random number\"}', 'name': 'random_number'}})]),\n",
              "  '60'),\n",
              " (AgentActionMessageLog(tool='lower_case', tool_input={'input': 'SIXTY'}, log=\"\\nInvoking: `lower_case` with `{'input': 'SIXTY'}`\\n\\n\\n\", message_log=[AIMessage(content='', additional_kwargs={'function_call': {'arguments': '{\"input\":\"SIXTY\"}', 'name': 'lower_case'}})]),\n",
              "  'sixty')]"
            ]
          },
          "execution_count": 49,
          "metadata": {},
          "output_type": "execute_result"
        }
      ],
      "source": [
        "output.get(\"intermediate_steps\")"
      ]
    },
    {
      "cell_type": "code",
      "execution_count": null,
      "metadata": {
        "id": "_mSFW-4Crpyd"
      },
      "outputs": [],
      "source": [
        "inputs = {\"input\": \"does it get cold in SF in Jan?\", \"chat_history\": []}\n",
        "\n",
        "output = app.invoke(inputs)"
      ]
    },
    {
      "cell_type": "code",
      "execution_count": null,
      "metadata": {
        "colab": {
          "base_uri": "https://localhost:8080/",
          "height": 70
        },
        "id": "yd88Rrmftqa3",
        "outputId": "c5b4725f-dab4-4399-9100-07fd51084ceb"
      },
      "outputs": [
        {
          "data": {
            "application/vnd.google.colaboratory.intrinsic+json": {
              "type": "string"
            },
            "text/plain": [
              "\"Yes, San Francisco can experience cold weather in January. The average temperature in January ranges from 45°F to 57°F (7°C to 14°C), so it's a good idea to pack some warm clothing if you plan to visit San Francisco in January.\""
            ]
          },
          "execution_count": 51,
          "metadata": {},
          "output_type": "execute_result"
        }
      ],
      "source": [
        "output.get(\"agent_outcome\").return_values['output']\n"
      ]
    },
    {
      "cell_type": "code",
      "execution_count": null,
      "metadata": {
        "colab": {
          "base_uri": "https://localhost:8080/"
        },
        "id": "P4HwY9Ept0c2",
        "outputId": "d9c4db24-5dd1-4451-e08d-f68660293da9"
      },
      "outputs": [
        {
          "data": {
            "text/plain": [
              "[]"
            ]
          },
          "execution_count": 52,
          "metadata": {},
          "output_type": "execute_result"
        }
      ],
      "source": [
        "output.get(\"intermediate_steps\")"
      ]
    },
    {
      "cell_type": "code",
      "execution_count": null,
      "metadata": {
        "id": "s9ri9QQ5ui_X"
      },
      "outputs": [],
      "source": []
    },
    {
      "cell_type": "code",
      "execution_count": null,
      "metadata": {},
      "outputs": [],
      "source": []
    },
    {
      "cell_type": "code",
      "execution_count": null,
      "metadata": {},
      "outputs": [],
      "source": []
    },
    {
      "cell_type": "code",
      "execution_count": null,
      "metadata": {},
      "outputs": [],
      "source": []
    },
    {
      "cell_type": "code",
      "execution_count": null,
      "metadata": {},
      "outputs": [],
      "source": []
    }
  ],
  "metadata": {
    "colab": {
      "provenance": []
    },
    "kernelspec": {
      "display_name": "llm_env",
      "language": "python",
      "name": "llm_env"
    },
    "language_info": {
      "codemirror_mode": {
        "name": "ipython",
        "version": 3
      },
      "file_extension": ".py",
      "mimetype": "text/x-python",
      "name": "python",
      "nbconvert_exporter": "python",
      "pygments_lexer": "ipython3",
      "version": "3.10.10"
    },
    "vscode": {
      "interpreter": {
        "hash": "ea1be1d1b523e04020e378a5aa948fdadaaf9937e45014596162ac52b84b242e"
      }
    }
  },
  "nbformat": 4,
  "nbformat_minor": 0
}
